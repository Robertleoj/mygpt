{
 "cells": [
  {
   "cell_type": "code",
   "execution_count": 27,
   "metadata": {},
   "outputs": [],
   "source": [
    "from milvus_utils import get_vectorstore"
   ]
  },
  {
   "cell_type": "code",
   "execution_count": 28,
   "metadata": {},
   "outputs": [],
   "source": [
    "m = get_vectorstore()"
   ]
  },
  {
   "cell_type": "code",
   "execution_count": 33,
   "metadata": {},
   "outputs": [
    {
     "data": {
      "text/plain": [
       "[Document(page_content='refund offline. Þannig í þessu tilviki ætti að skrifa 7850 í endurgreiða með inneign og ýta svo á refund offline. \\n\\n\\n\\nATH. Ef þú ert að endurgreiða á kreditkort og gerir refund offline þá fer það ekki á kortið. Passa það.\\n\\n\\n\\nEndurgreiða Nettó pantanir\\n\\n\\n\\nReglulega þarf að endurgreiða einhverjar vörur í Nettó pöntunum. Eins og t.d. Jarðaberin voru kramin eða sápan kom ekki. \\n\\n\\n\\nÞá gerir maður alveg eins og þegar þú endurgreiðir venjulega fer í reikningar og velur reikninginn, ýtir á endurgreiðsla í horninu. \\n\\nEN….. svo vandast málið. Nú þarftu að ýta á reset qty í horninu hægra megin til að núlla', metadata={'category': 'service_instructions', 'file': 'ALLT UM ENDURGREIÐSLUR.docx'}),\n",
       " Document(page_content='megin ýtir þú á reikningar og ýtir svo á þann reikning sem þú vilt vinna með. \\n\\n\\n\\n\\n\\n\\n\\nÞegar þú ert komin inn í reikninginn ýtir þá á endurgreiðsla í hægra horninu\\n\\n\\n\\nÞá opnast endurgreiðslan þá þarf að passa að skrifa í credit memo af hverju verið er að endurgreiða og hver endurgreiddi. Dæmi:“Endurgreitt vegna þess að viðskiptavinur lenti í slysi og mun ekki geta nýtt sér þetta. FF”\\n\\n\\n\\nSvo er hægt að ýta á refund í hægra neðra horninu.\\n\\n\\n\\nEf þú ert að endurgreiða með inneign þá gerir þú alveg eins nema setur upphæðina í endurgreiða með inneign sem er neðst og gerir svo refund offline. Þannig í', metadata={'category': 'service_instructions', 'file': 'ALLT UM ENDURGREIÐSLUR.docx'}),\n",
       " Document(page_content='Kjöt sem er ekki af réttri þyngd. Þá þarf að gera endurgreiðsluviðbót\\n\\nÞá þarf að setja 0 í birgðir af vörunni og update qty’s Svo þarf að reikna út hvað mikið viðskiptavinur á að fá til baka og setja þá upphæð í endurgreiðsluviðbót og í endurgreitt með inneign dálkana og refund offline. ATH þar sem endurgreiða þarf hluta af vöru er ekki hægt að endurgreiða á kort bara með inneign. \\n\\n\\n\\nViðskiptavinur getur svo beðið um að við millifærum á hann og þá setjum við allar þær upplýsingar í endurgreiðsluskjalið. \\n\\n\\n\\nALLTAF ÞEGAR BÚIÐ ER AÐ ENDURGREIÐA ÞARF AÐ MUNA', metadata={'category': 'service_instructions', 'file': 'ALLT UM ENDURGREIÐSLUR.docx'}),\n",
       " Document(page_content='megin til að núlla allar vörurnar. Því næst þarf að setja birgðir á þær vörur sem þú ætlar að endurgreiða. \\n\\n\\n\\n\\n\\n\\n\\nÞegar þú ert búin að setja birgðir á þær vörur sem þú vilt endurgreiða þá þarftu að ýta á update Qty’s neðst í vörulistanum \\n\\n\\n\\n\\n\\n\\n\\nÞegar það er búið ætti að koma rétt endurgreiðsluverð í samtals dálkinn. \\n\\nSvo þarf að setja inn skýringu og svo endurgreiða online ef það er kreditkort en annars setja upphæðina í endurgreiðslu með inneign og ýta á offline refund, þá fer það sem inneign inn á aðgang viðkomandi.\\n\\n\\n\\nEf viðskiptavinur fær t.d. Kjöt sem er ekki af', metadata={'category': 'service_instructions', 'file': 'ALLT UM ENDURGREIÐSLUR.docx'}),\n",
       " Document(page_content='ALLT UM ENDURGREIÐSLUR\\n\\n\\n\\nHér verður tekið saman allt sem við kemur endurgreiðslum í yfirfara. \\n\\n\\n\\nEndurgreiðsla Gjafabréfa \\n\\n\\n\\nHægt er að biðja um endurgreiðslu gjafabréfa ef innan við 14 dagar er síðan bréfið var keypt eða ef t.d fyrirtækið sem gjafabréf snýst um er farið í þrot og gjafabréf ennþá í gildi. \\n\\n\\n\\nDebitkort/Millifærsla: Ekki er hægt að endurgreiða beint inn á debitkort nema endurgreiðslan eigi sér stað innan nokkra klukkutíma eftir kaup og fyrir 21 að kvöldi. \\n\\n\\n\\nEf viðskiptavinur borgar með debitkorti og þarf að fá endurgreitt þarf að endurgreiða pöntunina með', metadata={'category': 'service_instructions', 'file': 'ALLT UM ENDURGREIÐSLUR.docx'})]"
      ]
     },
     "execution_count": 33,
     "metadata": {},
     "output_type": "execute_result"
    }
   ],
   "source": [
    "m.similarity_search(\"Refund\", 5)"
   ]
  }
 ],
 "metadata": {
  "kernelspec": {
   "display_name": ".venv",
   "language": "python",
   "name": "python3"
  },
  "language_info": {
   "codemirror_mode": {
    "name": "ipython",
    "version": 3
   },
   "file_extension": ".py",
   "mimetype": "text/x-python",
   "name": "python",
   "nbconvert_exporter": "python",
   "pygments_lexer": "ipython3",
   "version": "3.10.6"
  },
  "orig_nbformat": 4
 },
 "nbformat": 4,
 "nbformat_minor": 2
}
